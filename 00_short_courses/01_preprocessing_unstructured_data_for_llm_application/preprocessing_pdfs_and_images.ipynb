{
 "cells": [
  {
   "cell_type": "markdown",
   "metadata": {},
   "source": [
    "# L4: Pre processing pdfs and Images"
   ]
  },
  {
   "cell_type": "code",
   "execution_count": 2,
   "metadata": {},
   "outputs": [],
   "source": [
    "import warnings\n",
    "warnings.filterwarnings(\"ignore\")"
   ]
  },
  {
   "cell_type": "code",
   "execution_count": 3,
   "metadata": {},
   "outputs": [],
   "source": [
    "from unstructured_client import UnstructuredClient\n",
    "from unstructured_client.models import shared\n",
    "from unstructured_client.models.errors import SDKError\n",
    "from unstructured.partition.html import partition_html\n",
    "from unstructured.partition.auto import partition\n",
    "from unstructured.partition.pdf import partition_pdf\n",
    "from unstructured.staging.base import dict_to_elements"
   ]
  },
  {
   "cell_type": "code",
   "execution_count": 33,
   "metadata": {},
   "outputs": [],
   "source": [
    "DLAI_API_KEY = \"\"\n",
    "DLAI_API_URL = \"https://api.unstructuredapp.io/general/v0/general\"\n",
    "s = UnstructuredClient(\n",
    "    api_key_auth=DLAI_API_KEY,\n",
    "    server_url=DLAI_API_URL,\n",
    ")"
   ]
  },
  {
   "cell_type": "markdown",
   "metadata": {},
   "source": [
    "## Example Document: News in PDF and HTML"
   ]
  },
  {
   "cell_type": "code",
   "execution_count": 34,
   "metadata": {},
   "outputs": [],
   "source": [
    "file_name=\"example/el_nino.html\"\n",
    "html_elements = partition_html(filename=file_name)"
   ]
  },
  {
   "cell_type": "code",
   "execution_count": 35,
   "metadata": {},
   "outputs": [
    {
     "name": "stdout",
     "output_type": "stream",
     "text": [
      "UNCATEGORIZEDTEXT: CNN 1/30/2024\n",
      "TITLE: A potent pair of atmospheric rivers will drench California as El NiÃ±o makes its first mark on winter\n",
      "UNCATEGORIZEDTEXT: By Mary Gilbert, CNN Meteorologist\n",
      "UNCATEGORIZEDTEXT: Updated: 3:49 PM EST, Tue January 30, 2024\n",
      "UNCATEGORIZEDTEXT: Source: CNN\n",
      "NARRATIVETEXT: A potent pair of atmospheric river-fueled storms are about to unleash a windy and incredibly wet week in California in what is the first clear sign of the influence El NiÃ±o was expected to have on the state this winter.\n",
      "NARRATIVETEXT: The soaking storms will raise the flood threat across much of California into next week, but it appears the wet pattern is likely to continue well into February as a more typical El NiÃ±o pattern kicks into gear.\n",
      "NARRATIVETEXT: El NiÃ±o â aÂ natural phenomenonÂ in the tropical Pacific that influences weather around the globe â causes changes in the jet stream that can point storms directly at California. Storms can also tap into an extra-potent supply of moisture from the tropics called an atmospheric river.\n",
      "NARRATIVETEXT: El NiÃ±o hasnât materialized many atmospheric rivers for California so far this winter, with most hitting the Pacific Northwest.\n",
      "NARRATIVETEXT: But all that is set to change this week.\n"
     ]
    }
   ],
   "source": [
    "for element in html_elements[:10]:\n",
    "    print(f\"{element.category.upper()}: {element.text}\")"
   ]
  },
  {
   "cell_type": "markdown",
   "metadata": {},
   "source": [
    "## Process the Document with Document Layout Detection"
   ]
  },
  {
   "cell_type": "code",
   "execution_count": 36,
   "metadata": {},
   "outputs": [
    {
     "name": "stderr",
     "output_type": "stream",
     "text": [
      "INFO: HTTP Request: POST https://api.unstructuredapp.io/general/v0/general \"HTTP/1.1 200 OK\"\n"
     ]
    },
    {
     "name": "stdout",
     "output_type": "stream",
     "text": [
      "[\n",
      "  {\n",
      "    \"type\": \"Header\",\n",
      "    \"element_id\": \"3ce486b1d8985be1007a312b0e6e7f8e\",\n",
      "    \"text\": \"1/30/24, 5:11 PM\",\n",
      "    \"metadata\": {\n",
      "      \"filetype\": \"application/pdf\",\n",
      "      \"languages\": [\n",
      "        \"eng\"\n",
      "      ],\n",
      "      \"page_number\": 1,\n",
      "      \"filename\": \"el_nino.pdf\"\n",
      "    }\n",
      "  },\n",
      "  {\n",
      "    \"type\": \"Header\",\n",
      "    \"element_id\": \"80fadd89a087f74d635be08917fcddd1\",\n",
      "    \"text\": \"CNN 1/30/2024\",\n",
      "    \"metadata\": {\n",
      "      \"filetype\": \"application/pdf\",\n",
      "      \"languages\": [\n",
      "        \"eng\"\n",
      "      ],\n",
      "      \"page_number\": 1,\n",
      "      \"filename\": \"el_nino.pdf\"\n",
      "    }\n",
      "  },\n",
      "  {\n",
      "    \"type\": \"Header\",\n",
      "    \"element_id\": \"f879bdbd2f8e77d8da7f08930be3ca0e\",\n",
      "    \"text\": \"Pineapple express: California to get drenched by back-to-back storms fueling a serious \\ufb02ood threat | CNN\",\n",
      "    \"metadata\": {\n",
      "      \"filetype\": \"application/pdf\",\n",
      "      \"languages\": [\n",
      "        \"eng\"\n",
      "      ],\n",
      "      \"page_number\": 1,\n",
      "      \"filename\": \"el_nino.pdf\"\n",
      "    }\n",
      "  }\n",
      "]\n"
     ]
    }
   ],
   "source": [
    "from unstructured_client.models import shared, operations\n",
    "import json\n",
    "\n",
    "filename = \"example/el_nino.pdf\"\n",
    "with open(filename, \"rb\") as f:\n",
    "    files=shared.Files(\n",
    "        content=f.read(), \n",
    "        file_name=filename,\n",
    "    )\n",
    "req = operations.PartitionRequest(\n",
    "    partition_parameters=shared.PartitionParameters(\n",
    "        files=files,\n",
    "        strategy=\"hi_res\",\n",
    "        pdf_infer_table_structure=True,\n",
    "        languages=[\"eng\"],\n",
    "    )\n",
    ")\n",
    "try:\n",
    "    resp = s.general.partition(request=req)\n",
    "    print(json.dumps(resp.elements[:3], indent=2))\n",
    "except SDKError as e:\n",
    "    print(e)"
   ]
  },
  {
   "cell_type": "code",
   "execution_count": 39,
   "metadata": {},
   "outputs": [
    {
     "name": "stdout",
     "output_type": "stream",
     "text": [
      "HEADER: 1/30/24, 5:11 PM\n",
      "HEADER: CNN 1/30/2024\n",
      "HEADER: Pineapple express: California to get drenched by back-to-back storms fueling a serious ﬂood threat | CNN\n",
      "TITLE: A potent pair of atmospheric rivers will drench California as El Niño makes its ﬁrst mark on winter\n",
      "NARRATIVETEXT: By Mary Gilbert, CNN Meteorologist\n",
      "NARRATIVETEXT: Updated: 3:49 PM EST, Tue January 30, 2024\n",
      "NARRATIVETEXT: Source: CNN\n",
      "NARRATIVETEXT: A potent pair of atmospheric river-fueled storms are about to unleash a windy and incredibly wet week in California in what is the ﬁrst clear sign of the inﬂuence El Niño was expected to have on the state this winter.\n",
      "NARRATIVETEXT: The soaking storms will raise the ﬂood threat across much of California into next week, but it appears the wet pattern is likely to continue well into February as a more typical El Niño pattern kicks into gear.\n",
      "NARRATIVETEXT: El Niño – a natural phenomenon in the tropical Paciﬁc that inﬂuences weather around the globe – causes changes in the jet stream that can point storms directly at California. Storms can also tap into an extra-potent supply of moisture from the tropics called an atmospheric river.\n",
      "NARRATIVETEXT: El Niño hasn’t materialized many atmospheric rivers for California so far this winter, with most hitting the Paciﬁc Northwest.\n",
      "NARRATIVETEXT: But all that is set to change this week.\n",
      "NARRATIVETEXT: The ﬁrst of the two potent atmospheric river storms will develop and point at Northern California Wednesday before sweeping down the state and targeting Southern California Thursday.\n",
      "NARRATIVETEXT: The storm will start out very warm – fueled by moisture from near Hawaii that earns it the moniker of a pineapple express – and unload mainly rain in all but the absolute highest elevations in Northern California Wednesday. Central California should expect steady rain and gusty winds to begin late Wednesday and continue into Thursday.\n",
      "NARRATIVETEXT: Steady rainfall and periods of stronger winds will arrive in Southern California by Thursday morning. At the same time, much cooler air will begin to overspread the state.\n",
      "NARRATIVETEXT: More snow will accumulate and at lower elevations across parts of Northern California and the Sierra Nevada Thursday as cooler temperatures take over. Feet of snow could bury the highest peaks of the Sierras, with at least 6 inches of snow possible for some lower-elevation mountain roadways.\n",
      "NARRATIVETEXT: The snow is welcomed for California’s snowpack, which has been beleaguered by warmth and storms that have brought more rain than snow. This winter’s snowpack is just 52% of average for this time of year, according to the latest survey conducted by the state’s Department of Water Resources Tuesday. Snowpack is a vital water source, and the survey helps California to forecast how much water will be available for the rest of the year.\n",
      "NARRATIVETEXT: A few thunderstorms could rumble to life in the western half of California on Thursday and may produce bursts of heavier rain. A series of torrential thunderstorms fueled a proliﬁc rainfall event that plunged San Diego underwater last week.\n",
      "FOOTER: https://lite.cnn.com/2024/01/30/weather/california-pineapple-express-storm-ﬂooding-climate/index.html\n",
      "PAGENUMBER: 1/2\n",
      "HEADER: 1/30/24, 5:11 PM\n",
      "HEADER: Pineapple express: California to get drenched by back-to-back storms fueling a serious ﬂood threat | CNN\n",
      "NARRATIVETEXT: Flooding is possible across a signiﬁcant portion of California Wednesday and Thursday. A Level 2 out of 4 risk of excessive rainfall is in place Wednesday for portions of Northern and Central California, according to the Weather Prediction Center. The same risk level exits Thursday for Southern California as the rain shifts south.\n",
      "NARRATIVETEXT: Roadways and low-lying areas are at the most risk for ﬂooding, but rises on some waterways are possible.\n",
      "NARRATIVETEXT: Showery weather will linger across much of California Friday as moisture slowly pushes out and across the Southwest.\n",
      "TITLE: More potent atmospheric river event arrives Sunday\n",
      "NARRATIVETEXT: Respite from soaking weather in California will be brief: a second, more potent atmospheric river- fueled storm is expected to arrive Sunday.\n",
      "NARRATIVETEXT: Full details on this storm are still coming into focus, but forecast models are pointing to a more widespread and prolonged ﬂood threat, especially for Southern California. At the very least, another few days of rain and snow are likely across the rest of the state.\n",
      "NARRATIVETEXT: The second storm looks to tap into even more robust moisture from an atmospheric river than the ﬁrst, with the potential to stall over the region and unload several inches of rain from Sunday to around midweek.\n",
      "NARRATIVETEXT: Temperatures are also likely to start out much cooler with this storm than with the ﬁrst storm, with more snow possible down to mountain pass levels or potentially even lower elevations.\n",
      "NARRATIVETEXT: A wet, cooler pattern is likely to extend well after the second atmospheric river wraps up.\n",
      "NARRATIVETEXT: Below average temperatures and above average precipitation amounts are likely to persist into mid-February, according to outlooks produced by the Climate Prediction Center.\n",
      "NARRATIVETEXT: CNN’s Stephanie Elam contributed to this report\n",
      "NARRATIVETEXT: See Full Web Article\n",
      "TITLE: Go to the full CNN experience\n",
      "NARRATIVETEXT: © 2024 Cable News Network. A Warner Bros. Discovery Company. All Rights Reserved.\n",
      "NARRATIVETEXT: Terms of Use | Privacy Policy | Ad Choices | Cookie Settings\n",
      "FOOTER: https://lite.cnn.com/2024/01/30/weather/california-pineapple-express-storm-ﬂooding-climate/index.html\n",
      "PAGENUMBER: 2/2\n"
     ]
    }
   ],
   "source": [
    "dld_elements = dict_to_elements(resp.elements)\n",
    "\n",
    "for element in dld_elements:\n",
    "    print(f\"{element.category.upper()}: {element.text}\")"
   ]
  },
  {
   "cell_type": "code",
   "execution_count": 40,
   "metadata": {},
   "outputs": [],
   "source": [
    "import collections"
   ]
  },
  {
   "cell_type": "code",
   "execution_count": 41,
   "metadata": {},
   "outputs": [
    {
     "data": {
      "text/plain": [
       "31"
      ]
     },
     "execution_count": 41,
     "metadata": {},
     "output_type": "execute_result"
    }
   ],
   "source": [
    "len(html_elements)"
   ]
  },
  {
   "cell_type": "code",
   "execution_count": 42,
   "metadata": {},
   "outputs": [
    {
     "data": {
      "text/plain": [
       "[('NarrativeText', 23), ('UncategorizedText', 6), ('Title', 2)]"
      ]
     },
     "execution_count": 42,
     "metadata": {},
     "output_type": "execute_result"
    }
   ],
   "source": [
    "html_categories = [el.category for el in html_elements]\n",
    "collections.Counter(html_categories).most_common()"
   ]
  },
  {
   "cell_type": "code",
   "execution_count": 43,
   "metadata": {},
   "outputs": [
    {
     "data": {
      "text/plain": [
       "39"
      ]
     },
     "execution_count": 43,
     "metadata": {},
     "output_type": "execute_result"
    }
   ],
   "source": [
    "len(dld_elements)"
   ]
  },
  {
   "cell_type": "code",
   "execution_count": 44,
   "metadata": {},
   "outputs": [
    {
     "data": {
      "text/plain": [
       "[('NarrativeText', 27),\n",
       " ('Header', 5),\n",
       " ('Title', 3),\n",
       " ('Footer', 2),\n",
       " ('PageNumber', 2)]"
      ]
     },
     "execution_count": 44,
     "metadata": {},
     "output_type": "execute_result"
    }
   ],
   "source": [
    "dld_categories = [el.category for el in dld_elements]\n",
    "collections.Counter(dld_categories).most_common()"
   ]
  },
  {
   "cell_type": "code",
   "execution_count": null,
   "metadata": {},
   "outputs": [],
   "source": []
  }
 ],
 "metadata": {
  "kernelspec": {
   "display_name": "learning",
   "language": "python",
   "name": "python3"
  },
  "language_info": {
   "codemirror_mode": {
    "name": "ipython",
    "version": 3
   },
   "file_extension": ".py",
   "mimetype": "text/x-python",
   "name": "python",
   "nbconvert_exporter": "python",
   "pygments_lexer": "ipython3",
   "version": "3.12.8"
  }
 },
 "nbformat": 4,
 "nbformat_minor": 2
}
