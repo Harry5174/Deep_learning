{
 "cells": [
  {
   "cell_type": "markdown",
   "metadata": {},
   "source": [
    "# L3: Metadata Extraction and Chunking"
   ]
  },
  {
   "cell_type": "code",
   "execution_count": 52,
   "metadata": {},
   "outputs": [],
   "source": [
    "# Warning control\n",
    "import warnings\n",
    "warnings.filterwarnings('ignore')"
   ]
  },
  {
   "cell_type": "code",
   "execution_count": 53,
   "metadata": {},
   "outputs": [],
   "source": [
    "import logging\n",
    "logger = logging.getLogger()\n",
    "logger.setLevel(logging.CRITICAL)"
   ]
  },
  {
   "cell_type": "code",
   "execution_count": 54,
   "metadata": {},
   "outputs": [],
   "source": [
    "import json\n",
    "from IPython.display import JSON\n",
    "\n",
    "from unstructured_client import UnstructuredClient\n",
    "from unstructured_client.models import shared\n",
    "from unstructured_client.models.errors import SDKError\n",
    "\n",
    "from unstructured.chunking.basic import chunk_elements\n",
    "from unstructured.chunking.title import chunk_by_title\n",
    "from unstructured.staging.base import dict_to_elements\n",
    "\n",
    "import chromadb"
   ]
  },
  {
   "cell_type": "code",
   "execution_count": 55,
   "metadata": {},
   "outputs": [],
   "source": [
    "DLAI_API_KEY = \"\"\n",
    "DLAI_API_URL = \"https://api.unstructured.io/\"\n",
    "s = UnstructuredClient(\n",
    "    api_key_auth=DLAI_API_KEY,\n",
    "    server_url=DLAI_API_URL,\n",
    ")"
   ]
  },
  {
   "cell_type": "markdown",
   "metadata": {},
   "source": [
    "# Run the document through the Unstructured API"
   ]
  },
  {
   "cell_type": "code",
   "execution_count": 56,
   "metadata": {},
   "outputs": [
    {
     "name": "stdout",
     "output_type": "stream",
     "text": [
      "[\n",
      "  {\n",
      "    \"type\": \"Image\",\n",
      "    \"element_id\": \"c05cb0a0e7482aff28a7fac99f420e3b\",\n",
      "    \"text\": \"Basic Hunting  Passing on a time-honored tradition   Kentucky Department of   Fish and Wildlife Resources \",\n",
      "    \"metadata\": {\n",
      "      \"filetype\": \"application/pdf\",\n",
      "      \"languages\": [\n",
      "        \"eng\"\n",
      "      ],\n",
      "      \"page_number\": 1,\n",
      "      \"filename\": \"Basic_Hunting.pdf\"\n",
      "    }\n",
      "  },\n",
      "  {\n",
      "    \"type\": \"Title\",\n",
      "    \"element_id\": \"36775728b9b81d1db9ece0d7701ff712\",\n",
      "    \"text\": \"A\",\n",
      "    \"metadata\": {\n",
      "      \"filetype\": \"application/pdf\",\n",
      "      \"languages\": [\n",
      "        \"eng\"\n",
      "      ],\n",
      "      \"page_number\": 1,\n",
      "      \"filename\": \"Basic_Hunting.pdf\"\n",
      "    }\n",
      "  },\n",
      "  {\n",
      "    \"type\": \"Title\",\n",
      "    \"element_id\": \"abadedff59c52af285de21bfc7cc2ffc\",\n",
      "    \"text\": \"\\u00e9\",\n",
      "    \"metadata\": {\n",
      "      \"filetype\": \"application/pdf\",\n",
      "      \"languages\": [\n",
      "        \"eng\"\n",
      "      ],\n",
      "      \"page_number\": 1,\n",
      "      \"filename\": \"Basic_Hunting.pdf\"\n",
      "    }\n",
      "  }\n",
      "]\n"
     ]
    }
   ],
   "source": [
    "from unstructured_client.models import shared, operations\n",
    "\n",
    "filename = \"example/Basic_Hunting.pdf\"\n",
    "with open(filename, \"rb\") as f:\n",
    "    files=shared.Files(\n",
    "        content=f.read(), \n",
    "        file_name=filename,\n",
    "    )\n",
    "req = operations.PartitionRequest(\n",
    "    partition_parameters=shared.PartitionParameters(\n",
    "        files=files,\n",
    "        strategy=\"hi_res\",\n",
    "        pdf_infer_table_structure=True,\n",
    "        languages=[\"eng\"],\n",
    "    )\n",
    ")\n"
   ]
  },
  {
   "cell_type": "code",
   "execution_count": 57,
   "metadata": {},
   "outputs": [],
   "source": [
    "try:\n",
    "    resp = s.general.partition(request=req)\n",
    "    # print(json.dumps(resp.elements[:3], indent=2))\n",
    "except SDKError as e:\n",
    "    print(e)\n"
   ]
  },
  {
   "cell_type": "code",
   "execution_count": 58,
   "metadata": {},
   "outputs": [
    {
     "data": {
      "text/plain": [
       "<IPython.core.display.JSON object>"
      ]
     },
     "execution_count": 58,
     "metadata": {
      "application/json": {
       "expanded": false,
       "root": "root"
      }
     },
     "output_type": "execute_result"
    }
   ],
   "source": [
    "JSON(json.dumps(resp.elements[0:3], indent=2))"
   ]
  },
  {
   "cell_type": "markdown",
   "metadata": {},
   "source": [
    "# Find elements associated with chapters"
   ]
  },
  {
   "cell_type": "code",
   "execution_count": 60,
   "metadata": {},
   "outputs": [
    {
     "data": {
      "text/plain": [
       "[{'type': 'Title',\n",
       "  'element_id': 'd9d44fc4b33067b0c583c0b64ba898ef',\n",
       "  'text': 'Basic Hunting -',\n",
       "  'metadata': {'filetype': 'application/pdf',\n",
       "   'languages': ['eng'],\n",
       "   'page_number': 3,\n",
       "   'filename': 'Basic_Hunting.pdf'}},\n",
       " {'type': 'Title',\n",
       "  'element_id': '7c0df024c125be8fb31b4bc9b963a798',\n",
       "  'text': 'Basic Hunting -',\n",
       "  'metadata': {'filetype': 'application/pdf',\n",
       "   'languages': ['eng'],\n",
       "   'page_number': 5,\n",
       "   'filename': 'Basic_Hunting.pdf'}},\n",
       " {'type': 'Title',\n",
       "  'element_id': '8527bd6ce37f0aa7437e78fa1250d8ad',\n",
       "  'text': '2 - Basic Hunting',\n",
       "  'metadata': {'filetype': 'application/pdf',\n",
       "   'languages': ['eng'],\n",
       "   'page_number': 8,\n",
       "   'filename': 'Basic_Hunting.pdf'}},\n",
       " {'type': 'Title',\n",
       "  'element_id': '8424bf90b1121d14ddf0639a92c61449',\n",
       "  'text': 'Basic Hunting - 3',\n",
       "  'metadata': {'filetype': 'application/pdf',\n",
       "   'languages': ['eng'],\n",
       "   'page_number': 9,\n",
       "   'filename': 'Basic_Hunting.pdf'}},\n",
       " {'type': 'Title',\n",
       "  'element_id': '803506d3141fb3c682bd09320aa8f2f3',\n",
       "  'text': '4 - Basic Hunting',\n",
       "  'metadata': {'filetype': 'application/pdf',\n",
       "   'languages': ['eng'],\n",
       "   'page_number': 10,\n",
       "   'filename': 'Basic_Hunting.pdf'}},\n",
       " {'type': 'Title',\n",
       "  'element_id': '6c57cb58b1fe85daa6ed63fd04e0874d',\n",
       "  'text': '6 - Basic Hunting',\n",
       "  'metadata': {'filetype': 'application/pdf',\n",
       "   'languages': ['eng'],\n",
       "   'page_number': 12,\n",
       "   'filename': 'Basic_Hunting.pdf'}},\n",
       " {'type': 'Title',\n",
       "  'element_id': '058972c0a9176b788e2600f84160ffb4',\n",
       "  'text': 'TURKEY HUNTING',\n",
       "  'metadata': {'filetype': 'application/pdf',\n",
       "   'languages': ['eng'],\n",
       "   'page_number': 14,\n",
       "   'filename': 'Basic_Hunting.pdf'}},\n",
       " {'type': 'Title',\n",
       "  'element_id': '9f5394305b22d636e3cf0e8218f69603',\n",
       "  'text': '8 - Basic Hunting',\n",
       "  'metadata': {'filetype': 'application/pdf',\n",
       "   'languages': ['eng'],\n",
       "   'page_number': 14,\n",
       "   'filename': 'Basic_Hunting.pdf'}},\n",
       " {'type': 'Title',\n",
       "  'element_id': 'c8406d9989e836057c21518e4b81385e',\n",
       "  'text': '10 - Basic Hunting',\n",
       "  'metadata': {'filetype': 'application/pdf',\n",
       "   'languages': ['eng'],\n",
       "   'page_number': 16,\n",
       "   'filename': 'Basic_Hunting.pdf'}},\n",
       " {'type': 'Title',\n",
       "  'element_id': '21fbb8046a9b98af6f6a7c0a808b6522',\n",
       "  'text': 'Basic Hunting - 11',\n",
       "  'metadata': {'filetype': 'application/pdf',\n",
       "   'languages': ['eng'],\n",
       "   'page_number': 17,\n",
       "   'filename': 'Basic_Hunting.pdf'}},\n",
       " {'type': 'Title',\n",
       "  'element_id': '211cc94ceb2f0cf71196d965ad786bee',\n",
       "  'text': '12 - Basic Hunting',\n",
       "  'metadata': {'filetype': 'application/pdf',\n",
       "   'languages': ['eng'],\n",
       "   'page_number': 18,\n",
       "   'filename': 'Basic_Hunting.pdf'}},\n",
       " {'type': 'Title',\n",
       "  'element_id': '61bcbc88951703577a878f4b936b8fda',\n",
       "  'text': '14 - Basic Hunting',\n",
       "  'metadata': {'filetype': 'application/pdf',\n",
       "   'languages': ['eng'],\n",
       "   'page_number': 20,\n",
       "   'filename': 'Basic_Hunting.pdf'}},\n",
       " {'type': 'Title',\n",
       "  'element_id': 'd5616345c257a1b534a144b9dce9312d',\n",
       "  'text': '16 - Basic Hunting',\n",
       "  'metadata': {'filetype': 'application/pdf',\n",
       "   'languages': ['eng'],\n",
       "   'page_number': 22,\n",
       "   'filename': 'Basic_Hunting.pdf'}},\n",
       " {'type': 'Title',\n",
       "  'element_id': '69fca168e21ff360549fa1477cfb1a2d',\n",
       "  'text': '18 - Basic Hunting',\n",
       "  'metadata': {'filetype': 'application/pdf',\n",
       "   'languages': ['eng'],\n",
       "   'page_number': 24,\n",
       "   'filename': 'Basic_Hunting.pdf'}},\n",
       " {'type': 'Title',\n",
       "  'element_id': '6d15a9c4787c2f0a3ab09508075657fb',\n",
       "  'text': '20 - Basic Hunting',\n",
       "  'metadata': {'filetype': 'application/pdf',\n",
       "   'languages': ['eng'],\n",
       "   'page_number': 26,\n",
       "   'filename': 'Basic_Hunting.pdf'}},\n",
       " {'type': 'Title',\n",
       "  'element_id': 'c6f4b1895c2092adbfbe947691b1a051',\n",
       "  'text': '22 - Basic Hunting',\n",
       "  'metadata': {'filetype': 'application/pdf',\n",
       "   'languages': ['eng'],\n",
       "   'page_number': 28,\n",
       "   'filename': 'Basic_Hunting.pdf'}},\n",
       " {'type': 'Title',\n",
       "  'element_id': 'f91e519824d39e292373d646d8ff93df',\n",
       "  'text': 'Basic Hunting - 23',\n",
       "  'metadata': {'filetype': 'application/pdf',\n",
       "   'languages': ['eng'],\n",
       "   'page_number': 29,\n",
       "   'filename': 'Basic_Hunting.pdf'}},\n",
       " {'type': 'Title',\n",
       "  'element_id': '9edb579799aef8d38fa0da8fa801a6a6',\n",
       "  'text': 'DEER HUNTING',\n",
       "  'metadata': {'filetype': 'application/pdf',\n",
       "   'languages': ['eng'],\n",
       "   'page_number': 30,\n",
       "   'filename': 'Basic_Hunting.pdf'}},\n",
       " {'type': 'Title',\n",
       "  'element_id': '9e385f82f532410277fdd51d5cc24e1c',\n",
       "  'text': '24 - Basic Hunting',\n",
       "  'metadata': {'filetype': 'application/pdf',\n",
       "   'languages': ['eng'],\n",
       "   'page_number': 30,\n",
       "   'filename': 'Basic_Hunting.pdf'}},\n",
       " {'type': 'Title',\n",
       "  'element_id': '8587d9799e7bd0c43014a1c8e2c94031',\n",
       "  'text': 'Basic Hunting - 25',\n",
       "  'metadata': {'filetype': 'application/pdf',\n",
       "   'languages': ['eng'],\n",
       "   'page_number': 31,\n",
       "   'filename': 'Basic_Hunting.pdf'}},\n",
       " {'type': 'Title',\n",
       "  'element_id': '8452acb97847c966549d85e71ad2fc39',\n",
       "  'text': '26 - Basic Hunting',\n",
       "  'metadata': {'filetype': 'application/pdf',\n",
       "   'languages': ['eng'],\n",
       "   'page_number': 32,\n",
       "   'filename': 'Basic_Hunting.pdf'}},\n",
       " {'type': 'Title',\n",
       "  'element_id': '9722af57d3813b5799fd9b52d6b5e3d9',\n",
       "  'text': 'RABBIT HUNTING',\n",
       "  'metadata': {'filetype': 'application/pdf',\n",
       "   'languages': ['eng'],\n",
       "   'page_number': 36,\n",
       "   'filename': 'Basic_Hunting.pdf'}},\n",
       " {'type': 'Title',\n",
       "  'element_id': 'b86c75e5aaa1486fc9a6c8479ef8a2ca',\n",
       "  'text': '30 - Basic Hunting',\n",
       "  'metadata': {'filetype': 'application/pdf',\n",
       "   'languages': ['eng'],\n",
       "   'page_number': 36,\n",
       "   'filename': 'Basic_Hunting.pdf'}},\n",
       " {'type': 'Title',\n",
       "  'element_id': 'be95994e366fd63a00d2fedfe8b1fcbd',\n",
       "  'text': 'Basic Hunting - 31',\n",
       "  'metadata': {'filetype': 'application/pdf',\n",
       "   'languages': ['eng'],\n",
       "   'page_number': 37,\n",
       "   'filename': 'Basic_Hunting.pdf'}},\n",
       " {'type': 'Title',\n",
       "  'element_id': '5e62f89960aabb978c9a914dfcf590b6',\n",
       "  'text': '32 - Basic Hunting',\n",
       "  'metadata': {'filetype': 'application/pdf',\n",
       "   'languages': ['eng'],\n",
       "   'page_number': 38,\n",
       "   'filename': 'Basic_Hunting.pdf'}},\n",
       " {'type': 'Title',\n",
       "  'element_id': '71f7ff4e23959ad999002ad3d7bec28c',\n",
       "  'text': 'qUAIL HUNTING',\n",
       "  'metadata': {'filetype': 'application/pdf',\n",
       "   'languages': ['eng'],\n",
       "   'page_number': 42,\n",
       "   'filename': 'Basic_Hunting.pdf'}},\n",
       " {'type': 'Title',\n",
       "  'element_id': 'ef3070a339d107490ca94caf4ea029a6',\n",
       "  'text': '36 - Basic Hunting',\n",
       "  'metadata': {'filetype': 'application/pdf',\n",
       "   'languages': ['eng'],\n",
       "   'page_number': 42,\n",
       "   'filename': 'Basic_Hunting.pdf'}},\n",
       " {'type': 'Title',\n",
       "  'element_id': 'b0b4e02bc55a6aff7e933543bde8b4ea',\n",
       "  'text': '38 - Basic Hunting',\n",
       "  'metadata': {'filetype': 'application/pdf',\n",
       "   'languages': ['eng'],\n",
       "   'page_number': 44,\n",
       "   'filename': 'Basic_Hunting.pdf'}},\n",
       " {'type': 'Title',\n",
       "  'element_id': '4dfb0e98dec954e348c7ae1bf286e502',\n",
       "  'text': '40 - Basic Hunting',\n",
       "  'metadata': {'filetype': 'application/pdf',\n",
       "   'languages': ['eng'],\n",
       "   'page_number': 46,\n",
       "   'filename': 'Basic_Hunting.pdf'}},\n",
       " {'type': 'Title',\n",
       "  'element_id': '523c77d41f35ca6ed140307bc9327ea5',\n",
       "  'text': 'Basic Hunting - 41',\n",
       "  'metadata': {'filetype': 'application/pdf',\n",
       "   'languages': ['eng'],\n",
       "   'page_number': 47,\n",
       "   'filename': 'Basic_Hunting.pdf'}},\n",
       " {'type': 'Title',\n",
       "  'element_id': '0d960a12df00e35148de1a8d2c5bdad2',\n",
       "  'text': 'GROUSE HUNTING',\n",
       "  'metadata': {'filetype': 'application/pdf',\n",
       "   'languages': ['eng'],\n",
       "   'page_number': 48,\n",
       "   'filename': 'Basic_Hunting.pdf'}},\n",
       " {'type': 'Title',\n",
       "  'element_id': '80370f059071259761beed7dc888c1fe',\n",
       "  'text': '42 - Basic Hunting',\n",
       "  'metadata': {'filetype': 'application/pdf',\n",
       "   'languages': ['eng'],\n",
       "   'page_number': 48,\n",
       "   'filename': 'Basic_Hunting.pdf'}},\n",
       " {'type': 'Title',\n",
       "  'element_id': '65b29dce768a9c19bac63ef8f81821d6',\n",
       "  'text': '44 - Basic Hunting',\n",
       "  'metadata': {'filetype': 'application/pdf',\n",
       "   'languages': ['eng'],\n",
       "   'page_number': 50,\n",
       "   'filename': 'Basic_Hunting.pdf'}},\n",
       " {'type': 'Title',\n",
       "  'element_id': '2f1315b147c5b6d57ec30452e222f188',\n",
       "  'text': 'Basic Hunting - 45',\n",
       "  'metadata': {'filetype': 'application/pdf',\n",
       "   'languages': ['eng'],\n",
       "   'page_number': 51,\n",
       "   'filename': 'Basic_Hunting.pdf'}},\n",
       " {'type': 'Title',\n",
       "  'element_id': 'ad078c95cab84b63b2b601b665494ce4',\n",
       "  'text': '46 - Basic Hunting',\n",
       "  'metadata': {'filetype': 'application/pdf',\n",
       "   'languages': ['eng'],\n",
       "   'page_number': 52,\n",
       "   'filename': 'Basic_Hunting.pdf'}},\n",
       " {'type': 'Title',\n",
       "  'element_id': 'b13d345dea44b2e28d8b6702424d36b6',\n",
       "  'text': '48 - Basic Hunting',\n",
       "  'metadata': {'filetype': 'application/pdf',\n",
       "   'languages': ['eng'],\n",
       "   'page_number': 54,\n",
       "   'filename': 'Basic_Hunting.pdf'}},\n",
       " {'type': 'Title',\n",
       "  'element_id': 'e409ebc7ebd8ee98bae271c29e65078f',\n",
       "  'text': 'Practice your Calling and Shooting Before Hunting',\n",
       "  'metadata': {'filetype': 'application/pdf',\n",
       "   'languages': ['eng'],\n",
       "   'page_number': 55,\n",
       "   'filename': 'Basic_Hunting.pdf'}},\n",
       " {'type': 'Title',\n",
       "  'element_id': 'ef926c70e264346af5b18b06b1783ff4',\n",
       "  'text': 'Basic Hunting - 49',\n",
       "  'metadata': {'filetype': 'application/pdf',\n",
       "   'languages': ['eng'],\n",
       "   'page_number': 55,\n",
       "   'filename': 'Basic_Hunting.pdf'}},\n",
       " {'type': 'Title',\n",
       "  'element_id': '7743310af947d0cc846546c7cd29df2f',\n",
       "  'text': '50 - Basic Hunting',\n",
       "  'metadata': {'filetype': 'application/pdf',\n",
       "   'languages': ['eng'],\n",
       "   'page_number': 56,\n",
       "   'filename': 'Basic_Hunting.pdf'}},\n",
       " {'type': 'Title',\n",
       "  'element_id': '3cc1073e90d6ad1ecd6725d2da5814d0',\n",
       "  'text': 'Basic Hunting - 51',\n",
       "  'metadata': {'filetype': 'application/pdf',\n",
       "   'languages': ['eng'],\n",
       "   'page_number': 57,\n",
       "   'filename': 'Basic_Hunting.pdf'}},\n",
       " {'type': 'Title',\n",
       "  'element_id': '5cbccd445ca202d41ab0ce0d64fd46f0',\n",
       "  'text': '52 - Basic Hunting',\n",
       "  'metadata': {'filetype': 'application/pdf',\n",
       "   'languages': ['eng'],\n",
       "   'page_number': 58,\n",
       "   'filename': 'Basic_Hunting.pdf'}},\n",
       " {'type': 'Title',\n",
       "  'element_id': 'f1d37a914ff7e83261b4b273a9a2d782',\n",
       "  'text': 'ELK HUNTING',\n",
       "  'metadata': {'filetype': 'application/pdf',\n",
       "   'languages': ['eng'],\n",
       "   'page_number': 60,\n",
       "   'filename': 'Basic_Hunting.pdf'}},\n",
       " {'type': 'Title',\n",
       "  'element_id': '3af51b5cb2e9e5834ad1330acc6588a7',\n",
       "  'text': '54 - Basic Hunting',\n",
       "  'metadata': {'filetype': 'application/pdf',\n",
       "   'languages': ['eng'],\n",
       "   'page_number': 60,\n",
       "   'filename': 'Basic_Hunting.pdf'}},\n",
       " {'type': 'Title',\n",
       "  'element_id': '3ca82826ce3f388781e0ac180df99212',\n",
       "  'text': '56 - Basic Hunting',\n",
       "  'metadata': {'filetype': 'application/pdf',\n",
       "   'languages': ['eng'],\n",
       "   'page_number': 62,\n",
       "   'filename': 'Basic_Hunting.pdf'}},\n",
       " {'type': 'Title',\n",
       "  'element_id': 'c864cc9a40fc861692ff36b3c0f72a41',\n",
       "  'text': '58 - Basic Hunting',\n",
       "  'metadata': {'filetype': 'application/pdf',\n",
       "   'languages': ['eng'],\n",
       "   'page_number': 64,\n",
       "   'filename': 'Basic_Hunting.pdf'}},\n",
       " {'type': 'Title',\n",
       "  'element_id': '1fa9b6201f3e7406b0aa1a7654377c9c',\n",
       "  'text': '60 - Basic Hunting',\n",
       "  'metadata': {'filetype': 'application/pdf',\n",
       "   'languages': ['eng'],\n",
       "   'page_number': 66,\n",
       "   'filename': 'Basic_Hunting.pdf'}},\n",
       " {'type': 'Title',\n",
       "  'element_id': '227bc9cf3c04dc0644bb34da4977feca',\n",
       "  'text': 'Basic Hunting - 61',\n",
       "  'metadata': {'filetype': 'application/pdf',\n",
       "   'languages': ['eng'],\n",
       "   'page_number': 67,\n",
       "   'filename': 'Basic_Hunting.pdf'}}]"
      ]
     },
     "execution_count": 60,
     "metadata": {},
     "output_type": "execute_result"
    }
   ],
   "source": [
    "[x for x in resp.elements if x['type'] == 'Title' and 'hunting' in x['text'].lower()]"
   ]
  },
  {
   "cell_type": "code",
   "execution_count": 61,
   "metadata": {},
   "outputs": [],
   "source": [
    "chapters = [\n",
    "    \"BASIC HUNTING\",\n",
    "    \"TURKEY HUNTING\",\n",
    "    \"SQUIRREL HUNTING\",\n",
    "    \"DOVE HUNTING\",\n",
    "    \"DEER HUNTING\",\n",
    "    \"RABBIT HUNTING\",\n",
    "    \"QUAIL HUNTING\",\n",
    "]"
   ]
  },
  {
   "cell_type": "code",
   "execution_count": 62,
   "metadata": {},
   "outputs": [],
   "source": [
    "chapter_ids = {}\n",
    "for element in resp.elements:\n",
    "    for chapter in chapters:\n",
    "        if chapter in element[\"text\"] and element[\"type\"] == \"Title\":\n",
    "            chapter_ids[element[\"element_id\"]] = chapter\n",
    "            break"
   ]
  },
  {
   "cell_type": "code",
   "execution_count": 63,
   "metadata": {},
   "outputs": [
    {
     "data": {
      "text/plain": [
       "{'058972c0a9176b788e2600f84160ffb4': 'TURKEY HUNTING',\n",
       " '9edb579799aef8d38fa0da8fa801a6a6': 'DEER HUNTING',\n",
       " '9722af57d3813b5799fd9b52d6b5e3d9': 'RABBIT HUNTING'}"
      ]
     },
     "execution_count": 63,
     "metadata": {},
     "output_type": "execute_result"
    }
   ],
   "source": [
    "chapter_ids"
   ]
  },
  {
   "cell_type": "code",
   "execution_count": 71,
   "metadata": {},
   "outputs": [
    {
     "data": {
      "text/plain": [
       "{'type': 'Title',\n",
       " 'element_id': '9edb579799aef8d38fa0da8fa801a6a6',\n",
       " 'text': 'DEER HUNTING',\n",
       " 'metadata': {'filetype': 'application/pdf',\n",
       "  'languages': ['eng'],\n",
       "  'page_number': 30,\n",
       "  'filename': 'Basic_Hunting.pdf'}}"
      ]
     },
     "execution_count": 71,
     "metadata": {},
     "output_type": "execute_result"
    }
   ],
   "source": [
    "chapter_to_id = {v: k for k, v in chapter_ids.items()}\n",
    "[x for x in resp.elements if x[\"element_id\"] == chapter_to_id[\"DEER HUNTING\"]][0]"
   ]
  },
  {
   "cell_type": "markdown",
   "metadata": {},
   "source": [
    "# Load documents into a vector db"
   ]
  },
  {
   "cell_type": "code",
   "execution_count": 72,
   "metadata": {},
   "outputs": [
    {
     "data": {
      "text/plain": [
       "True"
      ]
     },
     "execution_count": 72,
     "metadata": {},
     "output_type": "execute_result"
    }
   ],
   "source": [
    "client = chromadb.PersistentClient(path=\"chroma_tmp\", settings=chromadb.Settings(allow_reset=True))\n",
    "client.reset()"
   ]
  },
  {
   "cell_type": "code",
   "execution_count": 73,
   "metadata": {},
   "outputs": [],
   "source": [
    "collection = client.create_collection(\n",
    "    name=\"basic_hunting\",\n",
    "    metadata={\"hnsw:space\": \"cosine\"}\n",
    ")"
   ]
  },
  {
   "cell_type": "code",
   "execution_count": 74,
   "metadata": {},
   "outputs": [
    {
     "name": "stderr",
     "output_type": "stream",
     "text": [
      "/home/harry/.cache/chroma/onnx_models/all-MiniLM-L6-v2/onnx.tar.gz: 100%|██████████| 79.3M/79.3M [07:05<00:00, 196kiB/s] \n"
     ]
    }
   ],
   "source": [
    "for element in resp.elements:\n",
    "    parent_id = element[\"metadata\"].get(\"parent_id\")\n",
    "    chapter = chapter_ids.get(parent_id, \"\")\n",
    "    collection.add(\n",
    "        documents=[element[\"text\"]],\n",
    "        ids=[element[\"element_id\"]],\n",
    "        metadatas=[{\"chapter\": chapter}]\n",
    "    )"
   ]
  },
  {
   "cell_type": "markdown",
   "metadata": {},
   "source": [
    "# See the elements in Vector DB"
   ]
  },
  {
   "cell_type": "code",
   "execution_count": 75,
   "metadata": {},
   "outputs": [
    {
     "name": "stdout",
     "output_type": "stream",
     "text": [
      "['Basic Hunting  Passing on a time-honored tradition   Kentucky Department of   Fish and Wildlife Resources ', 'A', 'é', 'e - 1', '7', 'From the Commissioner.', ']', 'The North American Model of Wildlife Management depends on hunters. This model incorporates principles of conservation from the past 100 years and was formally adopted in 2002. Over the years the number of hunters has decreased. Fish and Wildlife agencies from across the nation view this as a major problem. Many factors contrib- ute to this decline, including habitat loss, a growing urban population, and increased competition for leisure time. We do have one key ele- ment upon which we can rely: the people who enjoy the opportunity to step outside and enjoy shooting and hunting.', 'Kentucky’s Department of Fish and Wildlife Resources has worked for several decades to give the shooter and hunter every pos- sible opportunity. We have developed shooting ranges, assisted land- owners in improving habitat, and enhanced the quality of the hunt for numerous species. In addition, we strive to provide Wildlife Manage- ment Areas for public use. In fact, the amount of land the department manages has more than doubled in the last 10 years.', 'You and your family and friends are essential to the future of hunting. Each new hunter must have consistent support to continue to grow and expand his or her interest. I think you will find this expe- rience extremely rewarding for everyone involved. In a tribute to his father, Alan Jackson stated in a song about boating that it was “…a piece of my childhood that will never be forgotten.” I feel your involve- ment in hunting with your friends and family will fall in that “special memory” category.']\n"
     ]
    }
   ],
   "source": [
    "results = collection.peek()\n",
    "print(results[\"documents\"])"
   ]
  },
  {
   "cell_type": "markdown",
   "metadata": {},
   "source": [
    "## Perform a hybrid search with metadata"
   ]
  },
  {
   "cell_type": "code",
   "execution_count": 76,
   "metadata": {},
   "outputs": [
    {
     "name": "stdout",
     "output_type": "stream",
     "text": [
      "{\n",
      "  \"ids\": [\n",
      "    []\n",
      "  ],\n",
      "  \"embeddings\": null,\n",
      "  \"documents\": [\n",
      "    []\n",
      "  ],\n",
      "  \"uris\": null,\n",
      "  \"data\": null,\n",
      "  \"metadatas\": [\n",
      "    []\n",
      "  ],\n",
      "  \"distances\": [\n",
      "    []\n",
      "  ],\n",
      "  \"included\": [\n",
      "    \"distances\",\n",
      "    \"documents\",\n",
      "    \"metadatas\"\n",
      "  ]\n",
      "}\n"
     ]
    }
   ],
   "source": [
    "result = collection.query(\n",
    "    query_texts=[\"How many players are on a team?\"],\n",
    "    n_results=2,\n",
    "    where={\"chapter\": \"DEER HUNTING\"},\n",
    ")\n",
    "print(json.dumps(result, indent=2))"
   ]
  },
  {
   "cell_type": "markdown",
   "metadata": {},
   "source": [
    "## Chunking Content"
   ]
  },
  {
   "cell_type": "code",
   "execution_count": 77,
   "metadata": {},
   "outputs": [],
   "source": [
    "elements = dict_to_elements(resp.elements)"
   ]
  },
  {
   "cell_type": "code",
   "execution_count": 78,
   "metadata": {},
   "outputs": [],
   "source": [
    "chunks = chunk_by_title(\n",
    "    elements,\n",
    "    combine_text_under_n_chars=100,\n",
    "    max_characters=3000,\n",
    ")"
   ]
  },
  {
   "cell_type": "code",
   "execution_count": 79,
   "metadata": {},
   "outputs": [
    {
     "data": {
      "application/json": {
       "element_id": "ba5868e9-d9fe-4b51-96a2-5db2a9a65614",
       "metadata": {
        "filename": "Basic_Hunting.pdf",
        "filetype": "application/pdf",
        "languages": [
         "eng"
        ],
        "orig_elements": "eJw9j0tLBDEQhP9Kk7OPcVzZx1FEFC/ixcOyDL1JZ7Yx6YRJD7gs+99NZPXWVH1NVW1PhgJFEh3YmQ0Y2z3YfYcdLRerHr3vV7j0aNdrv+g7ut+bKzCRFB0qVv5kPAcSjNSeH7GwHV5mUZbxJjvf6AboMf8CmHNgi8pJbi92QBlnHKlUf2tIRrOraq7KIHPc01T1u3OVlL71PwQuIQDvWEo7kgCCcqTrQ5I0kQOd0HGLAoC3unC2X0d4ooyTtsGQfDWeuRwAxcEnBxfYE3xQSfNkqUCr99f8NdZG5rz7AeviZDI=",
        "page_number": 1
       },
       "text": "Basic Hunting Passing on a time-honored tradition Kentucky Department of Fish and Wildlife Resources",
       "type": "CompositeElement"
      },
      "text/plain": [
       "<IPython.core.display.JSON object>"
      ]
     },
     "execution_count": 79,
     "metadata": {
      "application/json": {
       "expanded": false,
       "root": "root"
      }
     },
     "output_type": "execute_result"
    }
   ],
   "source": [
    "JSON(json.dumps(chunks[0].to_dict(), indent=2))"
   ]
  },
  {
   "cell_type": "code",
   "execution_count": 80,
   "metadata": {},
   "outputs": [
    {
     "data": {
      "text/plain": [
       "531"
      ]
     },
     "execution_count": 80,
     "metadata": {},
     "output_type": "execute_result"
    }
   ],
   "source": [
    "len(elements)"
   ]
  },
  {
   "cell_type": "code",
   "execution_count": 81,
   "metadata": {},
   "outputs": [
    {
     "data": {
      "text/plain": [
       "116"
      ]
     },
     "execution_count": 81,
     "metadata": {},
     "output_type": "execute_result"
    }
   ],
   "source": [
    "len(chunks)"
   ]
  },
  {
   "cell_type": "code",
   "execution_count": null,
   "metadata": {},
   "outputs": [],
   "source": []
  }
 ],
 "metadata": {
  "kernelspec": {
   "display_name": "learning",
   "language": "python",
   "name": "python3"
  },
  "language_info": {
   "codemirror_mode": {
    "name": "ipython",
    "version": 3
   },
   "file_extension": ".py",
   "mimetype": "text/x-python",
   "name": "python",
   "nbconvert_exporter": "python",
   "pygments_lexer": "ipython3",
   "version": "3.12.8"
  }
 },
 "nbformat": 4,
 "nbformat_minor": 2
}
