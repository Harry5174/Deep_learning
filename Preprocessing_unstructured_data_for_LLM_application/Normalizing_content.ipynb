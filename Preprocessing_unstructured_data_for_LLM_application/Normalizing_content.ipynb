{
 "cells": [
  {
   "cell_type": "code",
   "execution_count": 1,
   "metadata": {},
   "outputs": [],
   "source": [
    "import warnings\n",
    "warnings.filterwarnings('ignore')\n",
    "\n",
    "from IPython.display import JSON\n",
    "import json\n",
    "\n",
    "from unstructured_client import UnstructuredClient\n",
    "from unstructured_client.models import shared\n",
    "from unstructured_client.models.errors import SDKError\n",
    "from unstructured.partition.html import partition_html\n",
    "\n",
    "DLAI_API_KEY = \"\"\n",
    "DLAI_API_URL = \"https://api.unstructured.io/general/v0/general\"\n",
    "s = UnstructuredClient(\n",
    "    api_key_auth=DLAI_API_KEY,\n",
    "    server_url=DLAI_API_URL,\n",
    ")"
   ]
  },
  {
   "cell_type": "markdown",
   "metadata": {},
   "source": [
    "# PDF Normalization to JSON"
   ]
  },
  {
   "cell_type": "code",
   "execution_count": 2,
   "metadata": {},
   "outputs": [
    {
     "name": "stderr",
     "output_type": "stream",
     "text": [
      "INFO: HTTP Request: POST https://api.unstructured.io/general/v0/general \"HTTP/1.1 200 OK\"\n"
     ]
    },
    {
     "name": "stdout",
     "output_type": "stream",
     "text": [
      "[\n",
      "  {\n",
      "    \"type\": \"Title\",\n",
      "    \"element_id\": \"93389d1fbd128dc0af6d37c3fb12da5f\",\n",
      "    \"text\": \"Abstract\",\n",
      "    \"metadata\": {\n",
      "      \"filetype\": \"application/pdf\",\n",
      "      \"languages\": [\n",
      "        \"eng\"\n",
      "      ],\n",
      "      \"page_number\": 1,\n",
      "      \"filename\": \"abstract.pdf\"\n",
      "    }\n",
      "  },\n",
      "  {\n",
      "    \"type\": \"Title\",\n",
      "    \"element_id\": \"e07c885d79b1556d89711da9a09b43d1\",\n",
      "    \"text\": \"Chain-of-Thought powered Retrieval-Augmented Generation for Cardiac Care\",\n",
      "    \"metadata\": {\n",
      "      \"filetype\": \"application/pdf\",\n",
      "      \"languages\": [\n",
      "        \"eng\"\n",
      "      ],\n",
      "      \"page_number\": 1,\n",
      "      \"filename\": \"abstract.pdf\"\n",
      "    }\n",
      "  },\n",
      "  {\n",
      "    \"type\": \"Title\",\n",
      "    \"element_id\": \"2fd274a869019689158b1e8558506c2e\",\n",
      "    \"text\": \"Objectives:\",\n",
      "    \"metadata\": {\n",
      "      \"filetype\": \"application/pdf\",\n",
      "      \"languages\": [\n",
      "        \"eng\"\n",
      "      ],\n",
      "      \"page_number\": 1,\n",
      "      \"filename\": \"abstract.pdf\"\n",
      "    }\n",
      "  }\n",
      "]\n"
     ]
    }
   ],
   "source": [
    "from unstructured_client.models import shared, operations\n",
    "\n",
    "filename = \"example/abstract.pdf\"\n",
    "with open(filename, \"rb\") as f:\n",
    "    files=shared.Files(\n",
    "        content=f.read(), \n",
    "        file_name=filename,\n",
    "    )\n",
    "req = operations.PartitionRequest(\n",
    "    partition_parameters=shared.PartitionParameters(\n",
    "        files=files,\n",
    "        strategy=\"hi_res\",\n",
    "        pdf_infer_table_structure=True,\n",
    "        languages=[\"eng\"],\n",
    "    )\n",
    ")\n",
    "try:\n",
    "    resp = s.general.partition(request=req)\n",
    "    print(json.dumps(resp.elements[:3], indent=2))\n",
    "except SDKError as e:\n",
    "    print(e)\n"
   ]
  },
  {
   "cell_type": "code",
   "execution_count": 3,
   "metadata": {},
   "outputs": [
    {
     "name": "stdout",
     "output_type": "stream",
     "text": [
      "[{'type': 'Title', 'element_id': '93389d1fbd128dc0af6d37c3fb12da5f', 'text': 'Abstract', 'metadata': {'filetype': 'application/pdf', 'languages': ['eng'], 'page_number': 1, 'filename': 'abstract.pdf'}}, {'type': 'Title', 'element_id': 'e07c885d79b1556d89711da9a09b43d1', 'text': 'Chain-of-Thought powered Retrieval-Augmented Generation for Cardiac Care', 'metadata': {'filetype': 'application/pdf', 'languages': ['eng'], 'page_number': 1, 'filename': 'abstract.pdf'}}, {'type': 'Title', 'element_id': '2fd274a869019689158b1e8558506c2e', 'text': 'Objectives:', 'metadata': {'filetype': 'application/pdf', 'languages': ['eng'], 'page_number': 1, 'filename': 'abstract.pdf'}}, {'type': 'NarrativeText', 'element_id': '7b90367c8814655ace8569a18b0beac6', 'text': 'Rapid Evolution in large language models has proven significant advancement in Natural Language Processing in health care professions and clinical settings. However, leveraging these models and ensuring accuracy and interpret-ability remains a challenge in specific and medical domain like cardiology. This study proposes a novel system which integrates Retrieval-Augmented Generation (RAG) with Chain-of-Thought (COT) prompting to improve reasoning and diagnostic decision-making for Cardiac Care.', 'metadata': {'filetype': 'application/pdf', 'languages': ['eng'], 'page_number': 1, 'parent_id': '2fd274a869019689158b1e8558506c2e', 'filename': 'abstract.pdf'}}, {'type': 'Title', 'element_id': '459eb7b6a4edfb39d1d13e10f7292fb6', 'text': 'Methodology:', 'metadata': {'filetype': 'application/pdf', 'languages': ['eng'], 'page_number': 1, 'filename': 'abstract.pdf'}}, {'type': 'NarrativeText', 'element_id': 'f164fdc1b9c9ff92cccbdd468dc7c7f6', 'text': 'In the absence of a dedicated dataset exclusively targeting heart-related text, a retrieval corpus was synthesized using heart-focused datasets, such as Echo Net-Dynamic and MIMIC-IV related cardiovascular literature, ensuring semantic relevance. Combining it with COT, system delivers reason-based responses for complex clinical scenarios. The RAG pipeline retrieves semantic and relevant data based on evidence and insights while the COT techniques ensure model’s ability to reason before delivering responses. Evaluation on medical QA benchmarks (e.g, MedQA and CardioQ) demonstrates the model’s ability to achieve near-state-of-the-art performance leveraging models reasoning capabilities.', 'metadata': {'filetype': 'application/pdf', 'languages': ['eng'], 'page_number': 1, 'parent_id': '459eb7b6a4edfb39d1d13e10f7292fb6', 'filename': 'abstract.pdf'}}, {'type': 'Title', 'element_id': 'fb7655539096b54f771edb611f583b9d', 'text': 'Results:', 'metadata': {'filetype': 'application/pdf', 'languages': ['eng'], 'page_number': 1, 'filename': 'abstract.pdf'}}, {'type': 'NarrativeText', 'element_id': 'd802492e07f174137b79afa22d722faa', 'text': \"The system demonstrated near-the-state-of-the-art performance on MedQA and CardioQ benchmarks, achieving accurate and transparent reasoning-based responses. The integration of COT further enabled the system to improve the model's response coherence and reasoning compared to baseline RAG systems.\", 'metadata': {'filetype': 'application/pdf', 'languages': ['eng'], 'page_number': 1, 'parent_id': 'fb7655539096b54f771edb611f583b9d', 'filename': 'abstract.pdf'}}, {'type': 'Title', 'element_id': 'd8776283cfda46736588b8027c3fd403', 'text': 'Conclusion:', 'metadata': {'filetype': 'application/pdf', 'languages': ['eng'], 'page_number': 2, 'filename': 'abstract.pdf'}}, {'type': 'NarrativeText', 'element_id': 'a3f227b9ee13f334f19e5f1bae7d4935', 'text': 'Proposed system provides an innovative framework, enhancing reasoning and decision- making in cardiac-care by synthesizing domain-specific knowledge bases and leveraging advanced NLP techniques. Future studies could expand this research for other specialized domains in healthcare.', 'metadata': {'filetype': 'application/pdf', 'languages': ['eng'], 'page_number': 2, 'parent_id': 'd8776283cfda46736588b8027c3fd403', 'filename': 'abstract.pdf'}}, {'type': 'Title', 'element_id': '85f34f5fab586e44b345dfb065ee1eb4', 'text': 'Keywords:', 'metadata': {'filetype': 'application/pdf', 'languages': ['eng'], 'page_number': 2, 'filename': 'abstract.pdf'}}, {'type': 'NarrativeText', 'element_id': '8e1c5501f92f82a1aae60b7bca25b9e7', 'text': 'Cardiac Care, Chain-of-Thought, Natural Language Processing, Retrieval-Augmented Generation, Semantic Retrieval', 'metadata': {'filetype': 'application/pdf', 'languages': ['eng'], 'page_number': 2, 'parent_id': '85f34f5fab586e44b345dfb065ee1eb4', 'filename': 'abstract.pdf'}}]\n"
     ]
    }
   ],
   "source": [
    "print (resp.elements)"
   ]
  },
  {
   "cell_type": "code",
   "execution_count": 4,
   "metadata": {},
   "outputs": [
    {
     "data": {
      "text/plain": [
       "<IPython.core.display.JSON object>"
      ]
     },
     "execution_count": 4,
     "metadata": {
      "application/json": {
       "expanded": false,
       "root": "root"
      }
     },
     "output_type": "execute_result"
    }
   ],
   "source": [
    "JSON(json.dumps(resp.elements, indent=2))"
   ]
  },
  {
   "cell_type": "markdown",
   "metadata": {},
   "source": [
    "# Power point Normalization to JSON"
   ]
  },
  {
   "cell_type": "code",
   "execution_count": 3,
   "metadata": {},
   "outputs": [
    {
     "name": "stdout",
     "output_type": "stream",
     "text": [
      "Collecting python-pptx\n",
      "  Using cached python_pptx-1.0.2-py3-none-any.whl.metadata (2.5 kB)\n",
      "Collecting Pillow>=3.3.2 (from python-pptx)\n",
      "  Downloading pillow-11.1.0-cp312-cp312-manylinux_2_28_x86_64.whl.metadata (9.1 kB)\n",
      "Collecting XlsxWriter>=0.5.7 (from python-pptx)\n",
      "  Using cached XlsxWriter-3.2.2-py3-none-any.whl.metadata (2.8 kB)\n",
      "Requirement already satisfied: lxml>=3.1.0 in /home/harry/anaconda3/envs/learning/lib/python3.12/site-packages (from python-pptx) (5.3.0)\n",
      "Requirement already satisfied: typing-extensions>=4.9.0 in /home/harry/anaconda3/envs/learning/lib/python3.12/site-packages (from python-pptx) (4.12.2)\n",
      "Using cached python_pptx-1.0.2-py3-none-any.whl (472 kB)\n",
      "Downloading pillow-11.1.0-cp312-cp312-manylinux_2_28_x86_64.whl (4.5 MB)\n",
      "\u001b[2K   \u001b[38;2;114;156;31m━━━━━━━━━━━━━━━━━━━━━━━━━━━━━━━━━━━━━━━━\u001b[0m \u001b[32m4.5/4.5 MB\u001b[0m \u001b[31m1.6 MB/s\u001b[0m eta \u001b[36m0:00:00\u001b[0m MB/s\u001b[0m eta \u001b[36m0:00:01\u001b[0m:01\u001b[0m\n",
      "\u001b[?25hUsing cached XlsxWriter-3.2.2-py3-none-any.whl (165 kB)\n",
      "Installing collected packages: XlsxWriter, Pillow, python-pptx\n",
      "Successfully installed Pillow-11.1.0 XlsxWriter-3.2.2 python-pptx-1.0.2\n",
      "Note: you may need to restart the kernel to use updated packages.\n"
     ]
    }
   ],
   "source": [
    "%pip install python-pptx"
   ]
  },
  {
   "cell_type": "code",
   "execution_count": 5,
   "metadata": {},
   "outputs": [],
   "source": [
    "from unstructured.partition.pptx import partition_pptx\n",
    "\n",
    "filename=\"example/slides.pptx\"\n",
    "element= partition_pptx(filename=filename)\n"
   ]
  },
  {
   "cell_type": "code",
   "execution_count": 6,
   "metadata": {},
   "outputs": [
    {
     "data": {
      "text/plain": [
       "<IPython.core.display.JSON object>"
      ]
     },
     "execution_count": 6,
     "metadata": {
      "application/json": {
       "expanded": false,
       "root": "root"
      }
     },
     "output_type": "execute_result"
    }
   ],
   "source": [
    "from unstructured.staging.base import dict_to_elements, elements_to_json\n",
    "import json\n",
    "\n",
    "element_dict = [el.to_dict() for el in element]\n",
    "JSON(json.dumps(element_dict[:], indent=2))"
   ]
  },
  {
   "cell_type": "markdown",
   "metadata": {},
   "source": [
    "# HTML Normalization to JSON"
   ]
  },
  {
   "cell_type": "code",
   "execution_count": 9,
   "metadata": {},
   "outputs": [],
   "source": [
    "filename = \"example/E06516_Winter_Sports_In_Switzerland_chocr.html\"\n",
    "elements = partition_html(filename=filename)"
   ]
  },
  {
   "cell_type": "code",
   "execution_count": 10,
   "metadata": {},
   "outputs": [
    {
     "name": "stdout",
     "output_type": "stream",
     "text": [
      "[\n",
      "  {\n",
      "    \"type\": \"UncategorizedText\",\n",
      "    \"element_id\": \"ceccb7dc920cfe73eb9ec9b57ff95e5f\",\n",
      "    \"text\": \"I N S W I T Z E R L A N D\",\n",
      "    \"metadata\": {\n",
      "      \"last_modified\": \"2021-04-03T18:20:27\",\n",
      "      \"languages\": [\n",
      "        \"cat\",\n",
      "        \"cym\"\n",
      "      ],\n",
      "      \"file_directory\": \"example\",\n",
      "      \"filename\": \"E06516_Winter_Sports_In_Switzerland_chocr.html\",\n",
      "      \"filetype\": \"text/html\"\n",
      "    }\n",
      "  },\n",
      "  {\n",
      "    \"type\": \"UncategorizedText\",\n",
      "    \"element_id\": \"0c1cb38666b70a42b5d04ee95efc9782\",\n",
      "    \"text\": \"B Y\",\n",
      "    \"metadata\": {\n",
      "      \"last_modified\": \"2021-04-03T18:20:27\",\n",
      "      \"languages\": [\n",
      "        \"cat\",\n",
      "        \"cym\"\n",
      "      ],\n",
      "      \"file_directory\": \"example\",\n",
      "      \"filename\": \"E06516_Winter_Sports_In_Switzerland_chocr.html\",\n",
      "      \"filetype\": \"text/html\"\n",
      "    }\n",
      "  },\n",
      "  {\n",
      "    \"type\": \"UncategorizedText\",\n",
      "    \"element_id\": \"ee7ac8da65ee149ee6e7bf3d60814226\",\n",
      "    \"text\": \"E . F . B E N S O N\",\n",
      "    \"metadata\": {\n",
      "      \"last_modified\": \"2021-04-03T18:20:27\",\n",
      "      \"languages\": [\n",
      "        \"cat\",\n",
      "        \"cym\"\n",
      "      ],\n",
      "      \"file_directory\": \"example\",\n",
      "      \"filename\": \"E06516_Winter_Sports_In_Switzerland_chocr.html\",\n",
      "      \"filetype\": \"text/html\"\n",
      "    }\n",
      "  },\n",
      "  {\n",
      "    \"type\": \"NarrativeText\",\n",
      "    \"element_id\": \"56fb496a90c52cbadd61a0f01cd9ad67\",\n",
      "    \"text\": \"W I T H 1 2 F U L L - P A G E I L L U S T R A T I O N S I N C O L O U R B Y C . F L E M I N G W I L L I A M S\",\n",
      "    \"metadata\": {\n",
      "      \"last_modified\": \"2021-04-03T18:20:27\",\n",
      "      \"languages\": [\n",
      "        \"cat\",\n",
      "        \"cym\"\n",
      "      ],\n",
      "      \"file_directory\": \"example\",\n",
      "      \"filename\": \"E06516_Winter_Sports_In_Switzerland_chocr.html\",\n",
      "      \"filetype\": \"text/html\"\n",
      "    }\n",
      "  }\n",
      "]\n"
     ]
    }
   ],
   "source": [
    "element_dict = [el.to_dict() for el in elements]\n",
    "example_output = json.dumps(element_dict[11:15], indent=2)\n",
    "print(example_output)"
   ]
  },
  {
   "cell_type": "code",
   "execution_count": null,
   "metadata": {},
   "outputs": [],
   "source": []
  }
 ],
 "metadata": {
  "kernelspec": {
   "display_name": "learning",
   "language": "python",
   "name": "python3"
  },
  "language_info": {
   "codemirror_mode": {
    "name": "ipython",
    "version": 3
   },
   "file_extension": ".py",
   "mimetype": "text/x-python",
   "name": "python",
   "nbconvert_exporter": "python",
   "pygments_lexer": "ipython3",
   "version": "3.12.8"
  }
 },
 "nbformat": 4,
 "nbformat_minor": 4
}
